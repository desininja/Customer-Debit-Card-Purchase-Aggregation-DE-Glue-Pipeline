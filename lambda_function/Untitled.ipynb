{
 "cells": [
  {
   "cell_type": "code",
   "execution_count": 2,
   "metadata": {},
   "outputs": [],
   "source": [
    "import pandas as pd"
   ]
  },
  {
   "cell_type": "code",
   "execution_count": 9,
   "metadata": {},
   "outputs": [],
   "source": [
    "df1 = pd.read_csv(r'transactions_2024-07-23.csv')\n",
    "df2 = pd.read_csv(r'transactions_2024-07-24.csv')\n",
    "df3 = pd.read_csv(r'transactions_2024-07-25.csv')"
   ]
  },
  {
   "cell_type": "code",
   "execution_count": 10,
   "metadata": {},
   "outputs": [],
   "source": [
    "udf = pd.concat([df1,df2,df3])"
   ]
  },
  {
   "cell_type": "code",
   "execution_count": 11,
   "metadata": {},
   "outputs": [
    {
     "data": {
      "text/html": [
       "<div>\n",
       "<style scoped>\n",
       "    .dataframe tbody tr th:only-of-type {\n",
       "        vertical-align: middle;\n",
       "    }\n",
       "\n",
       "    .dataframe tbody tr th {\n",
       "        vertical-align: top;\n",
       "    }\n",
       "\n",
       "    .dataframe thead th {\n",
       "        text-align: right;\n",
       "    }\n",
       "</style>\n",
       "<table border=\"1\" class=\"dataframe\">\n",
       "  <thead>\n",
       "    <tr style=\"text-align: right;\">\n",
       "      <th></th>\n",
       "      <th>customer_id</th>\n",
       "      <th>name</th>\n",
       "      <th>debit_card_number</th>\n",
       "      <th>debit_card_type</th>\n",
       "      <th>bank_name</th>\n",
       "      <th>transaction_date</th>\n",
       "      <th>amount_spend</th>\n",
       "    </tr>\n",
       "  </thead>\n",
       "  <tbody>\n",
       "    <tr>\n",
       "      <th>0</th>\n",
       "      <td>1001</td>\n",
       "      <td>Ravi Kumar</td>\n",
       "      <td>1234567890123456</td>\n",
       "      <td>Visa</td>\n",
       "      <td>State Bank of India</td>\n",
       "      <td>2024-07-23</td>\n",
       "      <td>26.85</td>\n",
       "    </tr>\n",
       "    <tr>\n",
       "      <th>1</th>\n",
       "      <td>1002</td>\n",
       "      <td>Anjali Gupta</td>\n",
       "      <td>2345678901234567</td>\n",
       "      <td>Mastercard</td>\n",
       "      <td>HDFC Bank</td>\n",
       "      <td>2024-07-23</td>\n",
       "      <td>317.38</td>\n",
       "    </tr>\n",
       "    <tr>\n",
       "      <th>2</th>\n",
       "      <td>1003</td>\n",
       "      <td>Rahul Singh</td>\n",
       "      <td>3456789012345678</td>\n",
       "      <td>American Express</td>\n",
       "      <td>ICICI Bank</td>\n",
       "      <td>2024-07-23</td>\n",
       "      <td>217.62</td>\n",
       "    </tr>\n",
       "    <tr>\n",
       "      <th>3</th>\n",
       "      <td>1004</td>\n",
       "      <td>Priya Sharma</td>\n",
       "      <td>4567890123456789</td>\n",
       "      <td>Discover</td>\n",
       "      <td>Axis Bank</td>\n",
       "      <td>2024-07-23</td>\n",
       "      <td>78.52</td>\n",
       "    </tr>\n",
       "    <tr>\n",
       "      <th>4</th>\n",
       "      <td>1005</td>\n",
       "      <td>Suresh Patel</td>\n",
       "      <td>5678901234567890</td>\n",
       "      <td>Visa</td>\n",
       "      <td>Kotak Mahindra Bank</td>\n",
       "      <td>2024-07-23</td>\n",
       "      <td>107.69</td>\n",
       "    </tr>\n",
       "    <tr>\n",
       "      <th>...</th>\n",
       "      <td>...</td>\n",
       "      <td>...</td>\n",
       "      <td>...</td>\n",
       "      <td>...</td>\n",
       "      <td>...</td>\n",
       "      <td>...</td>\n",
       "      <td>...</td>\n",
       "    </tr>\n",
       "    <tr>\n",
       "      <th>395</th>\n",
       "      <td>1016</td>\n",
       "      <td>Meera Singh</td>\n",
       "      <td>6789012345678901</td>\n",
       "      <td>Discover</td>\n",
       "      <td>Andhra Bank</td>\n",
       "      <td>2024-07-25</td>\n",
       "      <td>459.93</td>\n",
       "    </tr>\n",
       "    <tr>\n",
       "      <th>396</th>\n",
       "      <td>1017</td>\n",
       "      <td>Arjun Gupta</td>\n",
       "      <td>7890123456789012</td>\n",
       "      <td>Visa</td>\n",
       "      <td>Canara Bank</td>\n",
       "      <td>2024-07-25</td>\n",
       "      <td>57.95</td>\n",
       "    </tr>\n",
       "    <tr>\n",
       "      <th>397</th>\n",
       "      <td>1018</td>\n",
       "      <td>Anushka Sharma</td>\n",
       "      <td>8901234567890123</td>\n",
       "      <td>Mastercard</td>\n",
       "      <td>Axis Bank</td>\n",
       "      <td>2024-07-25</td>\n",
       "      <td>60.99</td>\n",
       "    </tr>\n",
       "    <tr>\n",
       "      <th>398</th>\n",
       "      <td>1019</td>\n",
       "      <td>Aryan Khan</td>\n",
       "      <td>9012345678901234</td>\n",
       "      <td>American Express</td>\n",
       "      <td>Yes Bank</td>\n",
       "      <td>2024-07-25</td>\n",
       "      <td>412.52</td>\n",
       "    </tr>\n",
       "    <tr>\n",
       "      <th>399</th>\n",
       "      <td>1020</td>\n",
       "      <td>Deepika Patel</td>\n",
       "      <td>123456789012345</td>\n",
       "      <td>Discover</td>\n",
       "      <td>HDFC Bank</td>\n",
       "      <td>2024-07-25</td>\n",
       "      <td>486.34</td>\n",
       "    </tr>\n",
       "  </tbody>\n",
       "</table>\n",
       "<p>1200 rows × 7 columns</p>\n",
       "</div>"
      ],
      "text/plain": [
       "     customer_id            name  debit_card_number   debit_card_type  \\\n",
       "0           1001      Ravi Kumar   1234567890123456              Visa   \n",
       "1           1002    Anjali Gupta   2345678901234567        Mastercard   \n",
       "2           1003     Rahul Singh   3456789012345678  American Express   \n",
       "3           1004    Priya Sharma   4567890123456789          Discover   \n",
       "4           1005    Suresh Patel   5678901234567890              Visa   \n",
       "..           ...             ...                ...               ...   \n",
       "395         1016     Meera Singh   6789012345678901          Discover   \n",
       "396         1017     Arjun Gupta   7890123456789012              Visa   \n",
       "397         1018  Anushka Sharma   8901234567890123        Mastercard   \n",
       "398         1019      Aryan Khan   9012345678901234  American Express   \n",
       "399         1020   Deepika Patel    123456789012345          Discover   \n",
       "\n",
       "               bank_name transaction_date  amount_spend  \n",
       "0    State Bank of India       2024-07-23         26.85  \n",
       "1              HDFC Bank       2024-07-23        317.38  \n",
       "2             ICICI Bank       2024-07-23        217.62  \n",
       "3              Axis Bank       2024-07-23         78.52  \n",
       "4    Kotak Mahindra Bank       2024-07-23        107.69  \n",
       "..                   ...              ...           ...  \n",
       "395          Andhra Bank       2024-07-25        459.93  \n",
       "396          Canara Bank       2024-07-25         57.95  \n",
       "397            Axis Bank       2024-07-25         60.99  \n",
       "398             Yes Bank       2024-07-25        412.52  \n",
       "399            HDFC Bank       2024-07-25        486.34  \n",
       "\n",
       "[1200 rows x 7 columns]"
      ]
     },
     "execution_count": 11,
     "metadata": {},
     "output_type": "execute_result"
    }
   ],
   "source": [
    "udf"
   ]
  },
  {
   "cell_type": "code",
   "execution_count": 12,
   "metadata": {},
   "outputs": [
    {
     "data": {
      "text/plain": [
       "customer_id  debit_card_number  bank_name           \n",
       "1001         1234567890123456   State Bank of India     14041.34\n",
       "1002         2345678901234567   HDFC Bank               15481.03\n",
       "1003         3456789012345678   ICICI Bank              14939.28\n",
       "1004         4567890123456789   Axis Bank               14560.52\n",
       "1005         5678901234567890   Kotak Mahindra Bank     14529.96\n",
       "1006         6789012345678901   IndusInd Bank           17135.07\n",
       "1007         7890123456789012   Yes Bank                16359.34\n",
       "1008         8901234567890123   Punjab National Bank    12791.57\n",
       "1009         9012345678901234   Bank of Baroda          16598.95\n",
       "1010         123456789012345    Canara Bank             15226.56\n",
       "1011         1234567890123456   Union Bank of India     16322.83\n",
       "1012         2345678901234567   Bank of India           17536.62\n",
       "1013         3456789012345678   Indian Bank             15456.21\n",
       "1014         4567890123456789   Bank of Maharashtra     14982.68\n",
       "1015         5678901234567890   Allahabad Bank          16752.05\n",
       "1016         6789012345678901   Andhra Bank             15964.45\n",
       "1017         7890123456789012   Canara Bank             15321.82\n",
       "1018         8901234567890123   Axis Bank               14353.31\n",
       "1019         9012345678901234   Yes Bank                16764.89\n",
       "1020         123456789012345    HDFC Bank               15127.21\n",
       "Name: amount_spend, dtype: float64"
      ]
     },
     "execution_count": 12,
     "metadata": {},
     "output_type": "execute_result"
    }
   ],
   "source": [
    "udf.groupby(['customer_id','debit_card_number','bank_name'])['amount_spend'].sum()"
   ]
  },
  {
   "cell_type": "code",
   "execution_count": 7,
   "metadata": {},
   "outputs": [
    {
     "data": {
      "text/plain": [
       "customer_id  debit_card_number  bank_name           \n",
       "1001         1234567890123456   State Bank of India     4751.90\n",
       "1002         2345678901234567   HDFC Bank               5538.02\n",
       "1003         3456789012345678   ICICI Bank              5265.00\n",
       "1004         4567890123456789   Axis Bank               4908.77\n",
       "1005         5678901234567890   Kotak Mahindra Bank     4571.79\n",
       "1006         6789012345678901   IndusInd Bank           6346.91\n",
       "1007         7890123456789012   Yes Bank                5108.10\n",
       "1008         8901234567890123   Punjab National Bank    4806.56\n",
       "1009         9012345678901234   Bank of Baroda          5428.66\n",
       "1010         123456789012345    Canara Bank             4749.35\n",
       "1011         1234567890123456   Union Bank of India     5988.16\n",
       "1012         2345678901234567   Bank of India           4725.01\n",
       "1013         3456789012345678   Indian Bank             5686.75\n",
       "1014         4567890123456789   Bank of Maharashtra     4730.34\n",
       "1015         5678901234567890   Allahabad Bank          5327.32\n",
       "1016         6789012345678901   Andhra Bank             4860.45\n",
       "1017         7890123456789012   Canara Bank             4576.67\n",
       "1018         8901234567890123   Axis Bank               5212.04\n",
       "1019         9012345678901234   Yes Bank                4477.39\n",
       "1020         123456789012345    HDFC Bank               4400.71\n",
       "Name: amount_spend, dtype: float64"
      ]
     },
     "execution_count": 7,
     "metadata": {},
     "output_type": "execute_result"
    }
   ],
   "source": [
    "df1.groupby(['customer_id','debit_card_number','bank_name'])['amount_spend'].sum()"
   ]
  },
  {
   "cell_type": "code",
   "execution_count": 8,
   "metadata": {},
   "outputs": [
    {
     "data": {
      "text/plain": [
       "customer_id  debit_card_number  bank_name           \n",
       "1001         1234567890123456   State Bank of India     4304.82\n",
       "1002         2345678901234567   HDFC Bank               5383.62\n",
       "1003         3456789012345678   ICICI Bank              4939.64\n",
       "1004         4567890123456789   Axis Bank               4614.28\n",
       "1005         5678901234567890   Kotak Mahindra Bank     4774.26\n",
       "1006         6789012345678901   IndusInd Bank           5404.26\n",
       "1007         7890123456789012   Yes Bank                5041.64\n",
       "1008         8901234567890123   Punjab National Bank    2617.44\n",
       "1009         9012345678901234   Bank of Baroda          5711.56\n",
       "1010         123456789012345    Canara Bank             4864.87\n",
       "1011         1234567890123456   Union Bank of India     5186.10\n",
       "1012         2345678901234567   Bank of India           6131.45\n",
       "1013         3456789012345678   Indian Bank             5291.26\n",
       "1014         4567890123456789   Bank of Maharashtra     4691.12\n",
       "1015         5678901234567890   Allahabad Bank          5642.73\n",
       "1016         6789012345678901   Andhra Bank             4469.08\n",
       "1017         7890123456789012   Canara Bank             5478.81\n",
       "1018         8901234567890123   Axis Bank               4558.53\n",
       "1019         9012345678901234   Yes Bank                6130.48\n",
       "1020         123456789012345    HDFC Bank               5664.28\n",
       "Name: amount_spend, dtype: float64"
      ]
     },
     "execution_count": 8,
     "metadata": {},
     "output_type": "execute_result"
    }
   ],
   "source": [
    "df2.groupby(['customer_id','debit_card_number','bank_name'])['amount_spend'].sum()"
   ]
  },
  {
   "cell_type": "code",
   "execution_count": null,
   "metadata": {},
   "outputs": [],
   "source": []
  }
 ],
 "metadata": {
  "kernelspec": {
   "display_name": "Python 3",
   "language": "python",
   "name": "python3"
  },
  "language_info": {
   "codemirror_mode": {
    "name": "ipython",
    "version": 3
   },
   "file_extension": ".py",
   "mimetype": "text/x-python",
   "name": "python",
   "nbconvert_exporter": "python",
   "pygments_lexer": "ipython3",
   "version": "3.8.5"
  }
 },
 "nbformat": 4,
 "nbformat_minor": 4
}
